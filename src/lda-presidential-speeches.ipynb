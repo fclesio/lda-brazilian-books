{
 "cells": [
  {
   "cell_type": "code",
   "execution_count": 55,
   "metadata": {},
   "outputs": [
    {
     "data": {
      "text/html": [
       "<div>\n",
       "<style scoped>\n",
       "    .dataframe tbody tr th:only-of-type {\n",
       "        vertical-align: middle;\n",
       "    }\n",
       "\n",
       "    .dataframe tbody tr th {\n",
       "        vertical-align: top;\n",
       "    }\n",
       "\n",
       "    .dataframe thead th {\n",
       "        text-align: right;\n",
       "    }\n",
       "</style>\n",
       "<table border=\"1\" class=\"dataframe\">\n",
       "  <thead>\n",
       "    <tr style=\"text-align: right;\">\n",
       "      <th></th>\n",
       "      <th>president</th>\n",
       "      <th>link</th>\n",
       "    </tr>\n",
       "  </thead>\n",
       "  <tbody>\n",
       "    <tr>\n",
       "      <th>0</th>\n",
       "      <td>fhc</td>\n",
       "      <td>/pt-BR/discursos-artigos-e-entrevistas-categor...</td>\n",
       "    </tr>\n",
       "    <tr>\n",
       "      <th>1</th>\n",
       "      <td>lula</td>\n",
       "      <td>/pt-BR/discursos-artigos-e-entrevistas-categor...</td>\n",
       "    </tr>\n",
       "  </tbody>\n",
       "</table>\n",
       "</div>"
      ],
      "text/plain": [
       "  president                                               link\n",
       "0       fhc  /pt-BR/discursos-artigos-e-entrevistas-categor...\n",
       "1      lula  /pt-BR/discursos-artigos-e-entrevistas-categor..."
      ]
     },
     "execution_count": 55,
     "metadata": {},
     "output_type": "execute_result"
    }
   ],
   "source": [
    "import requests\n",
    "import urllib.request\n",
    "import time\n",
    "from bs4 import BeautifulSoup\n",
    "import pandas as pd\n",
    "\n",
    "speech_links = pd.read_csv(r'C:\\Users\\FYD\\Documents\\GitHub\\lda-brazilian-books\\src\\books\\discursos-presidenciais\\discursos-presidenciais-links.txt',\n",
    "                             delimiter='|')\n",
    "\n",
    "speech_links.head(2)"
   ]
  },
  {
   "cell_type": "code",
   "execution_count": 57,
   "metadata": {},
   "outputs": [
    {
     "name": "stdout",
     "output_type": "stream",
     "text": [
      "Process time: 407.8306894302368\n"
     ]
    }
   ],
   "source": [
    "start = time.time()\n",
    "\n",
    "BASE_URL = 'http://www.itamaraty.gov.br'\n",
    "\n",
    "full_link = []\n",
    "speech = []\n",
    "for link in speech_links['link']:\n",
    "    full_link.append(BASE_URL + link)\n",
    "    \n",
    "    response = requests.get(BASE_URL + link)\n",
    "    soup = BeautifulSoup(response.text, 'html.parser')\n",
    "    speech_text = soup.find(\"div\", itemprop=\"articleBody\")\n",
    "    \n",
    "    speech.append(speech_text)\n",
    "    \n",
    "print (\"Process time: \" + str((time.time() - start)))"
   ]
  },
  {
   "cell_type": "code",
   "execution_count": 63,
   "metadata": {},
   "outputs": [],
   "source": [
    "df_speech_consolidated = pd.concat([speech_links,\n",
    "                                   pd.DataFrame(full_link),\n",
    "                                   pd.DataFrame(speech)], axis=1)"
   ]
  },
  {
   "cell_type": "code",
   "execution_count": 64,
   "metadata": {},
   "outputs": [
    {
     "data": {
      "text/html": [
       "<div>\n",
       "<style scoped>\n",
       "    .dataframe tbody tr th:only-of-type {\n",
       "        vertical-align: middle;\n",
       "    }\n",
       "\n",
       "    .dataframe tbody tr th {\n",
       "        vertical-align: top;\n",
       "    }\n",
       "\n",
       "    .dataframe thead th {\n",
       "        text-align: right;\n",
       "    }\n",
       "</style>\n",
       "<table border=\"1\" class=\"dataframe\">\n",
       "  <thead>\n",
       "    <tr style=\"text-align: right;\">\n",
       "      <th></th>\n",
       "      <th>president</th>\n",
       "      <th>link</th>\n",
       "      <th>0</th>\n",
       "      <th>0</th>\n",
       "    </tr>\n",
       "  </thead>\n",
       "  <tbody>\n",
       "    <tr>\n",
       "      <th>0</th>\n",
       "      <td>fhc</td>\n",
       "      <td>/pt-BR/discursos-artigos-e-entrevistas-categor...</td>\n",
       "      <td>http://www.itamaraty.gov.br/pt-BR/discursos-ar...</td>\n",
       "      <td>&lt;div itemprop=\"articleBody\"&gt;\n",
       "&lt;div class=\"plain...</td>\n",
       "    </tr>\n",
       "    <tr>\n",
       "      <th>1</th>\n",
       "      <td>lula</td>\n",
       "      <td>/pt-BR/discursos-artigos-e-entrevistas-categor...</td>\n",
       "      <td>http://www.itamaraty.gov.br/pt-BR/discursos-ar...</td>\n",
       "      <td>&lt;div itemprop=\"articleBody\"&gt;\n",
       "&lt;p style=\"text-al...</td>\n",
       "    </tr>\n",
       "    <tr>\n",
       "      <th>2</th>\n",
       "      <td>lula</td>\n",
       "      <td>/pt-BR/discursos-artigos-e-entrevistas-categor...</td>\n",
       "      <td>http://www.itamaraty.gov.br/pt-BR/discursos-ar...</td>\n",
       "      <td>&lt;div itemprop=\"articleBody\"&gt;\n",
       "&lt;p style=\"text-al...</td>\n",
       "    </tr>\n",
       "    <tr>\n",
       "      <th>3</th>\n",
       "      <td>lula</td>\n",
       "      <td>/pt-BR/discursos-artigos-e-entrevistas-categor...</td>\n",
       "      <td>http://www.itamaraty.gov.br/pt-BR/discursos-ar...</td>\n",
       "      <td>&lt;div itemprop=\"articleBody\"&gt;\n",
       "&lt;p style=\"text-al...</td>\n",
       "    </tr>\n",
       "    <tr>\n",
       "      <th>4</th>\n",
       "      <td>lula</td>\n",
       "      <td>/pt-BR/discursos-artigos-e-entrevistas-categor...</td>\n",
       "      <td>http://www.itamaraty.gov.br/pt-BR/discursos-ar...</td>\n",
       "      <td>&lt;div itemprop=\"articleBody\"&gt;\n",
       "&lt;p style=\"text-al...</td>\n",
       "    </tr>\n",
       "  </tbody>\n",
       "</table>\n",
       "</div>"
      ],
      "text/plain": [
       "  president                                               link  \\\n",
       "0       fhc  /pt-BR/discursos-artigos-e-entrevistas-categor...   \n",
       "1      lula  /pt-BR/discursos-artigos-e-entrevistas-categor...   \n",
       "2      lula  /pt-BR/discursos-artigos-e-entrevistas-categor...   \n",
       "3      lula  /pt-BR/discursos-artigos-e-entrevistas-categor...   \n",
       "4      lula  /pt-BR/discursos-artigos-e-entrevistas-categor...   \n",
       "\n",
       "                                                   0  \\\n",
       "0  http://www.itamaraty.gov.br/pt-BR/discursos-ar...   \n",
       "1  http://www.itamaraty.gov.br/pt-BR/discursos-ar...   \n",
       "2  http://www.itamaraty.gov.br/pt-BR/discursos-ar...   \n",
       "3  http://www.itamaraty.gov.br/pt-BR/discursos-ar...   \n",
       "4  http://www.itamaraty.gov.br/pt-BR/discursos-ar...   \n",
       "\n",
       "                                                   0  \n",
       "0  <div itemprop=\"articleBody\">\n",
       "<div class=\"plain...  \n",
       "1  <div itemprop=\"articleBody\">\n",
       "<p style=\"text-al...  \n",
       "2  <div itemprop=\"articleBody\">\n",
       "<p style=\"text-al...  \n",
       "3  <div itemprop=\"articleBody\">\n",
       "<p style=\"text-al...  \n",
       "4  <div itemprop=\"articleBody\">\n",
       "<p style=\"text-al...  "
      ]
     },
     "execution_count": 64,
     "metadata": {},
     "output_type": "execute_result"
    }
   ],
   "source": [
    "df_speech_consolidated.head(5)"
   ]
  },
  {
   "cell_type": "code",
   "execution_count": 66,
   "metadata": {},
   "outputs": [],
   "source": [
    "df_speech_consolidated.to_csv(r'C:\\Users\\FYD\\Documents\\GitHub\\lda-brazilian-books\\src\\books\\discursos-presidenciais\\df_speech_consolidated.csv',\n",
    "                             sep='|',\n",
    "                             index_label=None)"
   ]
  },
  {
   "cell_type": "code",
   "execution_count": null,
   "metadata": {},
   "outputs": [],
   "source": []
  },
  {
   "cell_type": "code",
   "execution_count": null,
   "metadata": {},
   "outputs": [],
   "source": []
  },
  {
   "cell_type": "code",
   "execution_count": 15,
   "metadata": {},
   "outputs": [],
   "source": []
  },
  {
   "cell_type": "code",
   "execution_count": null,
   "metadata": {},
   "outputs": [],
   "source": []
  },
  {
   "cell_type": "code",
   "execution_count": null,
   "metadata": {},
   "outputs": [],
   "source": []
  },
  {
   "cell_type": "code",
   "execution_count": null,
   "metadata": {},
   "outputs": [],
   "source": []
  },
  {
   "cell_type": "code",
   "execution_count": null,
   "metadata": {},
   "outputs": [],
   "source": []
  },
  {
   "cell_type": "code",
   "execution_count": null,
   "metadata": {},
   "outputs": [],
   "source": []
  }
 ],
 "metadata": {
  "kernelspec": {
   "display_name": "Python 3",
   "language": "python",
   "name": "python3"
  },
  "language_info": {
   "codemirror_mode": {
    "name": "ipython",
    "version": 3
   },
   "file_extension": ".py",
   "mimetype": "text/x-python",
   "name": "python",
   "nbconvert_exporter": "python",
   "pygments_lexer": "ipython3",
   "version": "3.7.0"
  }
 },
 "nbformat": 4,
 "nbformat_minor": 2
}
